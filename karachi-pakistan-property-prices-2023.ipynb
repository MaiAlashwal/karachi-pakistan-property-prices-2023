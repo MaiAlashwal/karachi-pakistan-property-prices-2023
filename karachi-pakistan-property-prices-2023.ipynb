{
 "cells": [
  {
   "cell_type": "code",
   "execution_count": 46,
   "id": "823a5f34",
   "metadata": {},
   "outputs": [],
   "source": [
    "import pandas as pd\n",
    "import re\n",
    "import matplotlib.pyplot as plt\n"
   ]
  },
  {
   "cell_type": "code",
   "execution_count": 2,
   "id": "ff128e31",
   "metadata": {},
   "outputs": [],
   "source": [
    "#importing the data\n",
    "da = pd.read_csv(\"D:\\Data\\karachi-pakistan-property-prices-2023.csv\")"
   ]
  },
  {
   "cell_type": "markdown",
   "id": "8f2c8fc1",
   "metadata": {},
   "source": [
    "# Cleaning and exploring the data"
   ]
  },
  {
   "cell_type": "code",
   "execution_count": 3,
   "id": "aa87713d",
   "metadata": {},
   "outputs": [
    {
     "data": {
      "text/plain": [
       "(8414, 12)"
      ]
     },
     "execution_count": 3,
     "metadata": {},
     "output_type": "execute_result"
    }
   ],
   "source": [
    "da.shape"
   ]
  },
  {
   "cell_type": "code",
   "execution_count": 4,
   "id": "faab6790",
   "metadata": {},
   "outputs": [
    {
     "data": {
      "text/html": [
       "<div>\n",
       "<style scoped>\n",
       "    .dataframe tbody tr th:only-of-type {\n",
       "        vertical-align: middle;\n",
       "    }\n",
       "\n",
       "    .dataframe tbody tr th {\n",
       "        vertical-align: top;\n",
       "    }\n",
       "\n",
       "    .dataframe thead th {\n",
       "        text-align: right;\n",
       "    }\n",
       "</style>\n",
       "<table border=\"1\" class=\"dataframe\">\n",
       "  <thead>\n",
       "    <tr style=\"text-align: right;\">\n",
       "      <th></th>\n",
       "      <th>title</th>\n",
       "      <th>price</th>\n",
       "      <th>date added</th>\n",
       "      <th>type</th>\n",
       "      <th>bedrooms</th>\n",
       "      <th>bathrooms</th>\n",
       "      <th>area</th>\n",
       "      <th>location</th>\n",
       "      <th>complete location</th>\n",
       "      <th>description</th>\n",
       "      <th>keywords</th>\n",
       "      <th>url</th>\n",
       "    </tr>\n",
       "  </thead>\n",
       "  <tbody>\n",
       "    <tr>\n",
       "      <th>0</th>\n",
       "      <td>600 Yard Bungalow For Sale In DHA Phase 6</td>\n",
       "      <td>11.5 Crore</td>\n",
       "      <td>14 hours ago</td>\n",
       "      <td>House</td>\n",
       "      <td>5</td>\n",
       "      <td>6</td>\n",
       "      <td>600 Sq. Yd.</td>\n",
       "      <td>DHA Defence, Karachi, Sindh</td>\n",
       "      <td>DHA Phase 6, DHA Defence, Karachi, Sindh</td>\n",
       "      <td>Chance Deal 600 Yard Bungalow For Sale</td>\n",
       "      <td>Built in year: 1,Parking Spaces: 5,Flooring,Ot...</td>\n",
       "      <td>https://www.zameen.com/Property/d_h_a_dha_phas...</td>\n",
       "    </tr>\n",
       "    <tr>\n",
       "      <th>1</th>\n",
       "      <td>3 BEDS LUXURY 125 SQ YARDS VILLA FOR SALE LOCA...</td>\n",
       "      <td>1.45 Crore</td>\n",
       "      <td>5 hours ago</td>\n",
       "      <td>House</td>\n",
       "      <td>0</td>\n",
       "      <td>0</td>\n",
       "      <td>NaN</td>\n",
       "      <td>Bahria Town Karachi, Karachi, Sindh</td>\n",
       "      <td>Bahria Town - Ali Block, Bahria Town - Precinc...</td>\n",
       "      <td>3 BEDS LUXURY 125 SQ YARDS VILLA FOR SALE LOCA...</td>\n",
       "      <td>Bedrooms: 3,Bathrooms: 3,Kitchens: 2</td>\n",
       "      <td>https://www.zameen.com/Property/bahria_town_pr...</td>\n",
       "    </tr>\n",
       "    <tr>\n",
       "      <th>2</th>\n",
       "      <td>4 BEDS LUXURY SPORTS CITY VILLA FOR RENT BAHRI...</td>\n",
       "      <td>2.12 Crore</td>\n",
       "      <td>5 hours ago</td>\n",
       "      <td>House</td>\n",
       "      <td>0</td>\n",
       "      <td>0</td>\n",
       "      <td>NaN</td>\n",
       "      <td>Bahria Town Karachi, Karachi, Sindh</td>\n",
       "      <td>Bahria Sports City, Bahria Town Karachi, Karac...</td>\n",
       "      <td>4 BEDS LUXURY SPORTS CITY VILLA FOR RENT BAHRI...</td>\n",
       "      <td>Bedrooms: 4,Bathrooms: 4,Kitchens: 2</td>\n",
       "      <td>https://www.zameen.com/Property/bahria_town_ka...</td>\n",
       "    </tr>\n",
       "    <tr>\n",
       "      <th>3</th>\n",
       "      <td>3 BEDS LUXURY 235 SQ YARDS VILLA FOR SALE LOCA...</td>\n",
       "      <td>1.5 Crore</td>\n",
       "      <td>5 hours ago</td>\n",
       "      <td>House</td>\n",
       "      <td>0</td>\n",
       "      <td>0</td>\n",
       "      <td>NaN</td>\n",
       "      <td>Bahria Town Karachi, Karachi, Sindh</td>\n",
       "      <td>Bahria Town - Precinct 31, Bahria Town Karachi...</td>\n",
       "      <td>3 BEDS LUXURY 235 SQ YARDS VILLA FOR SALE LOCA...</td>\n",
       "      <td>Bedrooms: 3,Bathrooms: 3,Kitchens: 2</td>\n",
       "      <td>https://www.zameen.com/Property/bahria_town_ka...</td>\n",
       "    </tr>\n",
       "    <tr>\n",
       "      <th>4</th>\n",
       "      <td>Buying A Flat In Clifton - Block 9?</td>\n",
       "      <td>4 Crore</td>\n",
       "      <td>6 hours ago</td>\n",
       "      <td>Flat</td>\n",
       "      <td>3</td>\n",
       "      <td>3</td>\n",
       "      <td>200 Sq. Yd.</td>\n",
       "      <td>Clifton, Karachi, Sindh</td>\n",
       "      <td>Clifton - Block 9, Clifton, Karachi, Sindh</td>\n",
       "      <td>Apartment for sale</td>\n",
       "      <td>Flooring,Electricity Backup,Broadband Internet...</td>\n",
       "      <td>https://www.zameen.com/Property/clifton_clifto...</td>\n",
       "    </tr>\n",
       "  </tbody>\n",
       "</table>\n",
       "</div>"
      ],
      "text/plain": [
       "                                               title       price  \\\n",
       "0          600 Yard Bungalow For Sale In DHA Phase 6  11.5 Crore   \n",
       "1  3 BEDS LUXURY 125 SQ YARDS VILLA FOR SALE LOCA...  1.45 Crore   \n",
       "2  4 BEDS LUXURY SPORTS CITY VILLA FOR RENT BAHRI...  2.12 Crore   \n",
       "3  3 BEDS LUXURY 235 SQ YARDS VILLA FOR SALE LOCA...   1.5 Crore   \n",
       "4                Buying A Flat In Clifton - Block 9?     4 Crore   \n",
       "\n",
       "     date added   type  bedrooms  bathrooms         area  \\\n",
       "0  14 hours ago  House         5          6  600 Sq. Yd.   \n",
       "1   5 hours ago  House         0          0          NaN   \n",
       "2   5 hours ago  House         0          0          NaN   \n",
       "3   5 hours ago  House         0          0          NaN   \n",
       "4   6 hours ago   Flat         3          3  200 Sq. Yd.   \n",
       "\n",
       "                              location  \\\n",
       "0          DHA Defence, Karachi, Sindh   \n",
       "1  Bahria Town Karachi, Karachi, Sindh   \n",
       "2  Bahria Town Karachi, Karachi, Sindh   \n",
       "3  Bahria Town Karachi, Karachi, Sindh   \n",
       "4              Clifton, Karachi, Sindh   \n",
       "\n",
       "                                   complete location  \\\n",
       "0           DHA Phase 6, DHA Defence, Karachi, Sindh   \n",
       "1  Bahria Town - Ali Block, Bahria Town - Precinc...   \n",
       "2  Bahria Sports City, Bahria Town Karachi, Karac...   \n",
       "3  Bahria Town - Precinct 31, Bahria Town Karachi...   \n",
       "4         Clifton - Block 9, Clifton, Karachi, Sindh   \n",
       "\n",
       "                                         description  \\\n",
       "0             Chance Deal 600 Yard Bungalow For Sale   \n",
       "1  3 BEDS LUXURY 125 SQ YARDS VILLA FOR SALE LOCA...   \n",
       "2  4 BEDS LUXURY SPORTS CITY VILLA FOR RENT BAHRI...   \n",
       "3  3 BEDS LUXURY 235 SQ YARDS VILLA FOR SALE LOCA...   \n",
       "4                                 Apartment for sale   \n",
       "\n",
       "                                            keywords  \\\n",
       "0  Built in year: 1,Parking Spaces: 5,Flooring,Ot...   \n",
       "1               Bedrooms: 3,Bathrooms: 3,Kitchens: 2   \n",
       "2               Bedrooms: 4,Bathrooms: 4,Kitchens: 2   \n",
       "3               Bedrooms: 3,Bathrooms: 3,Kitchens: 2   \n",
       "4  Flooring,Electricity Backup,Broadband Internet...   \n",
       "\n",
       "                                                 url  \n",
       "0  https://www.zameen.com/Property/d_h_a_dha_phas...  \n",
       "1  https://www.zameen.com/Property/bahria_town_pr...  \n",
       "2  https://www.zameen.com/Property/bahria_town_ka...  \n",
       "3  https://www.zameen.com/Property/bahria_town_ka...  \n",
       "4  https://www.zameen.com/Property/clifton_clifto...  "
      ]
     },
     "execution_count": 4,
     "metadata": {},
     "output_type": "execute_result"
    }
   ],
   "source": [
    "da.head()\n"
   ]
  },
  {
   "cell_type": "code",
   "execution_count": 5,
   "id": "cd785c78",
   "metadata": {},
   "outputs": [
    {
     "name": "stdout",
     "output_type": "stream",
     "text": [
      "<class 'pandas.core.frame.DataFrame'>\n",
      "RangeIndex: 8414 entries, 0 to 8413\n",
      "Data columns (total 12 columns):\n",
      " #   Column             Non-Null Count  Dtype \n",
      "---  ------             --------------  ----- \n",
      " 0   title              8414 non-null   object\n",
      " 1   price              8413 non-null   object\n",
      " 2   date added         8047 non-null   object\n",
      " 3   type               8413 non-null   object\n",
      " 4   bedrooms           8414 non-null   int64 \n",
      " 5   bathrooms          8414 non-null   int64 \n",
      " 6   area               7322 non-null   object\n",
      " 7   location           8047 non-null   object\n",
      " 8   complete location  8413 non-null   object\n",
      " 9   description        8413 non-null   object\n",
      " 10  keywords           7551 non-null   object\n",
      " 11  url                8414 non-null   object\n",
      "dtypes: int64(2), object(10)\n",
      "memory usage: 788.9+ KB\n"
     ]
    }
   ],
   "source": [
    "da.info()"
   ]
  },
  {
   "cell_type": "code",
   "execution_count": 6,
   "id": "09172740",
   "metadata": {},
   "outputs": [
    {
     "name": "stdout",
     "output_type": "stream",
     "text": [
      "title                6530\n",
      "price                 650\n",
      "date added             38\n",
      "type                    6\n",
      "bedrooms               12\n",
      "bathrooms              11\n",
      "area                  337\n",
      "location                3\n",
      "complete location     134\n",
      "description          6025\n",
      "keywords             3760\n",
      "url                  8414\n",
      "dtype: int64\n"
     ]
    }
   ],
   "source": [
    "#To know the number of unique values in each column\n",
    "unique_counts = da.nunique()\n",
    "\n",
    "print(unique_counts)"
   ]
  },
  {
   "cell_type": "code",
   "execution_count": 7,
   "id": "5fc6f244",
   "metadata": {},
   "outputs": [
    {
     "data": {
      "text/plain": [
       "array(['House', 'Flat', nan, 'Lower Portion', 'Penthouse', 'Farm House',\n",
       "       'Upper Portion'], dtype=object)"
      ]
     },
     "execution_count": 7,
     "metadata": {},
     "output_type": "execute_result"
    }
   ],
   "source": [
    "#To know the type of houses that we are going to predict\n",
    "da[\"type\"].unique()"
   ]
  },
  {
   "cell_type": "code",
   "execution_count": 8,
   "id": "a3c2d487",
   "metadata": {},
   "outputs": [
    {
     "name": "stdout",
     "output_type": "stream",
     "text": [
      "type\n",
      "House            4587\n",
      "Flat             3768\n",
      "Penthouse          48\n",
      "Farm House          4\n",
      "Lower Portion       3\n",
      "Upper Portion       3\n",
      "Name: count, dtype: int64\n"
     ]
    }
   ],
   "source": [
    "#To know the amount of data available for each house type \n",
    "value_counts = da[\"type\"].value_counts()\n",
    "\n",
    "print(value_counts)"
   ]
  },
  {
   "cell_type": "code",
   "execution_count": 9,
   "id": "ac0970f0",
   "metadata": {},
   "outputs": [],
   "source": [
    "#We are going to keep the rows of these types(\"House\",\"Flat\")\n",
    "#as there is no enough data for the other types to make a valiable prediction\n",
    "values_to_keep = [\"House\",\"Flat\"]\n",
    "da = da[da[\"type\"].isin(values_to_keep)]"
   ]
  },
  {
   "cell_type": "code",
   "execution_count": 10,
   "id": "7123196b",
   "metadata": {},
   "outputs": [
    {
     "data": {
      "text/html": [
       "<div>\n",
       "<style scoped>\n",
       "    .dataframe tbody tr th:only-of-type {\n",
       "        vertical-align: middle;\n",
       "    }\n",
       "\n",
       "    .dataframe tbody tr th {\n",
       "        vertical-align: top;\n",
       "    }\n",
       "\n",
       "    .dataframe thead th {\n",
       "        text-align: right;\n",
       "    }\n",
       "</style>\n",
       "<table border=\"1\" class=\"dataframe\">\n",
       "  <thead>\n",
       "    <tr style=\"text-align: right;\">\n",
       "      <th></th>\n",
       "      <th>title</th>\n",
       "      <th>price</th>\n",
       "      <th>date added</th>\n",
       "      <th>type</th>\n",
       "      <th>bedrooms</th>\n",
       "      <th>bathrooms</th>\n",
       "      <th>area</th>\n",
       "      <th>location</th>\n",
       "      <th>complete location</th>\n",
       "      <th>description</th>\n",
       "      <th>keywords</th>\n",
       "      <th>url</th>\n",
       "      <th>price_value</th>\n",
       "      <th>currency</th>\n",
       "    </tr>\n",
       "  </thead>\n",
       "  <tbody>\n",
       "    <tr>\n",
       "      <th>0</th>\n",
       "      <td>600 Yard Bungalow For Sale In DHA Phase 6</td>\n",
       "      <td>11.5 Crore</td>\n",
       "      <td>14 hours ago</td>\n",
       "      <td>House</td>\n",
       "      <td>5</td>\n",
       "      <td>6</td>\n",
       "      <td>600 Sq. Yd.</td>\n",
       "      <td>DHA Defence, Karachi, Sindh</td>\n",
       "      <td>DHA Phase 6, DHA Defence, Karachi, Sindh</td>\n",
       "      <td>Chance Deal 600 Yard Bungalow For Sale</td>\n",
       "      <td>Built in year: 1,Parking Spaces: 5,Flooring,Ot...</td>\n",
       "      <td>https://www.zameen.com/Property/d_h_a_dha_phas...</td>\n",
       "      <td>11.5</td>\n",
       "      <td>Crore</td>\n",
       "    </tr>\n",
       "    <tr>\n",
       "      <th>1</th>\n",
       "      <td>3 BEDS LUXURY 125 SQ YARDS VILLA FOR SALE LOCA...</td>\n",
       "      <td>1.45 Crore</td>\n",
       "      <td>5 hours ago</td>\n",
       "      <td>House</td>\n",
       "      <td>0</td>\n",
       "      <td>0</td>\n",
       "      <td>NaN</td>\n",
       "      <td>Bahria Town Karachi, Karachi, Sindh</td>\n",
       "      <td>Bahria Town - Ali Block, Bahria Town - Precinc...</td>\n",
       "      <td>3 BEDS LUXURY 125 SQ YARDS VILLA FOR SALE LOCA...</td>\n",
       "      <td>Bedrooms: 3,Bathrooms: 3,Kitchens: 2</td>\n",
       "      <td>https://www.zameen.com/Property/bahria_town_pr...</td>\n",
       "      <td>1.45</td>\n",
       "      <td>Crore</td>\n",
       "    </tr>\n",
       "    <tr>\n",
       "      <th>2</th>\n",
       "      <td>4 BEDS LUXURY SPORTS CITY VILLA FOR RENT BAHRI...</td>\n",
       "      <td>2.12 Crore</td>\n",
       "      <td>5 hours ago</td>\n",
       "      <td>House</td>\n",
       "      <td>0</td>\n",
       "      <td>0</td>\n",
       "      <td>NaN</td>\n",
       "      <td>Bahria Town Karachi, Karachi, Sindh</td>\n",
       "      <td>Bahria Sports City, Bahria Town Karachi, Karac...</td>\n",
       "      <td>4 BEDS LUXURY SPORTS CITY VILLA FOR RENT BAHRI...</td>\n",
       "      <td>Bedrooms: 4,Bathrooms: 4,Kitchens: 2</td>\n",
       "      <td>https://www.zameen.com/Property/bahria_town_ka...</td>\n",
       "      <td>2.12</td>\n",
       "      <td>Crore</td>\n",
       "    </tr>\n",
       "    <tr>\n",
       "      <th>3</th>\n",
       "      <td>3 BEDS LUXURY 235 SQ YARDS VILLA FOR SALE LOCA...</td>\n",
       "      <td>1.5 Crore</td>\n",
       "      <td>5 hours ago</td>\n",
       "      <td>House</td>\n",
       "      <td>0</td>\n",
       "      <td>0</td>\n",
       "      <td>NaN</td>\n",
       "      <td>Bahria Town Karachi, Karachi, Sindh</td>\n",
       "      <td>Bahria Town - Precinct 31, Bahria Town Karachi...</td>\n",
       "      <td>3 BEDS LUXURY 235 SQ YARDS VILLA FOR SALE LOCA...</td>\n",
       "      <td>Bedrooms: 3,Bathrooms: 3,Kitchens: 2</td>\n",
       "      <td>https://www.zameen.com/Property/bahria_town_ka...</td>\n",
       "      <td>1.5</td>\n",
       "      <td>Crore</td>\n",
       "    </tr>\n",
       "    <tr>\n",
       "      <th>4</th>\n",
       "      <td>Buying A Flat In Clifton - Block 9?</td>\n",
       "      <td>4 Crore</td>\n",
       "      <td>6 hours ago</td>\n",
       "      <td>Flat</td>\n",
       "      <td>3</td>\n",
       "      <td>3</td>\n",
       "      <td>200 Sq. Yd.</td>\n",
       "      <td>Clifton, Karachi, Sindh</td>\n",
       "      <td>Clifton - Block 9, Clifton, Karachi, Sindh</td>\n",
       "      <td>Apartment for sale</td>\n",
       "      <td>Flooring,Electricity Backup,Broadband Internet...</td>\n",
       "      <td>https://www.zameen.com/Property/clifton_clifto...</td>\n",
       "      <td>4</td>\n",
       "      <td>Crore</td>\n",
       "    </tr>\n",
       "  </tbody>\n",
       "</table>\n",
       "</div>"
      ],
      "text/plain": [
       "                                               title       price  \\\n",
       "0          600 Yard Bungalow For Sale In DHA Phase 6  11.5 Crore   \n",
       "1  3 BEDS LUXURY 125 SQ YARDS VILLA FOR SALE LOCA...  1.45 Crore   \n",
       "2  4 BEDS LUXURY SPORTS CITY VILLA FOR RENT BAHRI...  2.12 Crore   \n",
       "3  3 BEDS LUXURY 235 SQ YARDS VILLA FOR SALE LOCA...   1.5 Crore   \n",
       "4                Buying A Flat In Clifton - Block 9?     4 Crore   \n",
       "\n",
       "     date added   type  bedrooms  bathrooms         area  \\\n",
       "0  14 hours ago  House         5          6  600 Sq. Yd.   \n",
       "1   5 hours ago  House         0          0          NaN   \n",
       "2   5 hours ago  House         0          0          NaN   \n",
       "3   5 hours ago  House         0          0          NaN   \n",
       "4   6 hours ago   Flat         3          3  200 Sq. Yd.   \n",
       "\n",
       "                              location  \\\n",
       "0          DHA Defence, Karachi, Sindh   \n",
       "1  Bahria Town Karachi, Karachi, Sindh   \n",
       "2  Bahria Town Karachi, Karachi, Sindh   \n",
       "3  Bahria Town Karachi, Karachi, Sindh   \n",
       "4              Clifton, Karachi, Sindh   \n",
       "\n",
       "                                   complete location  \\\n",
       "0           DHA Phase 6, DHA Defence, Karachi, Sindh   \n",
       "1  Bahria Town - Ali Block, Bahria Town - Precinc...   \n",
       "2  Bahria Sports City, Bahria Town Karachi, Karac...   \n",
       "3  Bahria Town - Precinct 31, Bahria Town Karachi...   \n",
       "4         Clifton - Block 9, Clifton, Karachi, Sindh   \n",
       "\n",
       "                                         description  \\\n",
       "0             Chance Deal 600 Yard Bungalow For Sale   \n",
       "1  3 BEDS LUXURY 125 SQ YARDS VILLA FOR SALE LOCA...   \n",
       "2  4 BEDS LUXURY SPORTS CITY VILLA FOR RENT BAHRI...   \n",
       "3  3 BEDS LUXURY 235 SQ YARDS VILLA FOR SALE LOCA...   \n",
       "4                                 Apartment for sale   \n",
       "\n",
       "                                            keywords  \\\n",
       "0  Built in year: 1,Parking Spaces: 5,Flooring,Ot...   \n",
       "1               Bedrooms: 3,Bathrooms: 3,Kitchens: 2   \n",
       "2               Bedrooms: 4,Bathrooms: 4,Kitchens: 2   \n",
       "3               Bedrooms: 3,Bathrooms: 3,Kitchens: 2   \n",
       "4  Flooring,Electricity Backup,Broadband Internet...   \n",
       "\n",
       "                                                 url price_value currency  \n",
       "0  https://www.zameen.com/Property/d_h_a_dha_phas...        11.5    Crore  \n",
       "1  https://www.zameen.com/Property/bahria_town_pr...        1.45    Crore  \n",
       "2  https://www.zameen.com/Property/bahria_town_ka...        2.12    Crore  \n",
       "3  https://www.zameen.com/Property/bahria_town_ka...         1.5    Crore  \n",
       "4  https://www.zameen.com/Property/clifton_clifto...           4    Crore  "
      ]
     },
     "execution_count": 10,
     "metadata": {},
     "output_type": "execute_result"
    }
   ],
   "source": [
    "da[['price_value', 'currency']] = da['price'].str.extract(r'(\\d+\\.?\\d*)\\s*(\\w+)')\n",
    "da.head()"
   ]
  },
  {
   "cell_type": "code",
   "execution_count": 11,
   "id": "dda8cda2",
   "metadata": {},
   "outputs": [],
   "source": [
    "#To make the data type of price_value as a float\n",
    "da['price_value'] = da['price_value'].astype(float)"
   ]
  },
  {
   "cell_type": "code",
   "execution_count": 12,
   "id": "c80231ed",
   "metadata": {},
   "outputs": [
    {
     "data": {
      "text/plain": [
       "array(['Crore', 'Lakh'], dtype=object)"
      ]
     },
     "execution_count": 12,
     "metadata": {},
     "output_type": "execute_result"
    }
   ],
   "source": [
    "#To know if the prices are in the same currency or not \n",
    "da[\"currency\"].unique()"
   ]
  },
  {
   "cell_type": "code",
   "execution_count": 13,
   "id": "6dbd06ec",
   "metadata": {},
   "outputs": [
    {
     "name": "stdout",
     "output_type": "stream",
     "text": [
      "currency\n",
      "Crore    7021\n",
      "Lakh     1334\n",
      "Name: count, dtype: int64\n"
     ]
    }
   ],
   "source": [
    "#To know the number of each currency\n",
    "value_counts_currency = da[\"currency\"].value_counts()\n",
    "print(value_counts_currency)"
   ]
  },
  {
   "cell_type": "code",
   "execution_count": 14,
   "id": "e3647168",
   "metadata": {},
   "outputs": [],
   "source": [
    "#To unify the currency used\n",
    "# Define conversion factors to \"Lakh\"\n",
    "conversion_factors = {\n",
    "    'Crore': 100,      # 1 Crore = 100 Lakh\n",
    "    'Lakh': 1,         # 1 Lakh = 1 Lakh\n",
    "}\n",
    "\n",
    "# Convert all prices to Lakh\n",
    "da['price_in_lakh'] = da.apply(lambda row: row['price_value'] * conversion_factors[row['currency']], axis=1)\n"
   ]
  },
  {
   "cell_type": "code",
   "execution_count": 15,
   "id": "19c232d6",
   "metadata": {},
   "outputs": [
    {
     "data": {
      "text/plain": [
       "0"
      ]
     },
     "execution_count": 15,
     "metadata": {},
     "output_type": "execute_result"
    }
   ],
   "source": [
    "#To make sure that there is no null values in price\n",
    "null_count_price = da['price'].isnull().sum()\n",
    "null_count_price"
   ]
  },
  {
   "cell_type": "code",
   "execution_count": 16,
   "id": "f40ee08b",
   "metadata": {},
   "outputs": [
    {
     "data": {
      "text/plain": [
       "count    8355.000000\n",
       "mean       16.724491\n",
       "std        25.920329\n",
       "min         1.000000\n",
       "25%         2.000000\n",
       "50%         5.000000\n",
       "75%        15.000000\n",
       "max        99.800000\n",
       "Name: price_value, dtype: float64"
      ]
     },
     "execution_count": 16,
     "metadata": {},
     "output_type": "execute_result"
    }
   ],
   "source": [
    "da['price_value'].describe()"
   ]
  },
  {
   "cell_type": "code",
   "execution_count": 17,
   "id": "40fa44b8",
   "metadata": {},
   "outputs": [
    {
     "data": {
      "text/plain": [
       "array(['14 hours ago', '5 hours ago', '6 hours ago', '10 hours ago',\n",
       "       '9 hours ago', '3 hours ago', '8 hours ago', '7 hours ago',\n",
       "       '1 day ago', '16 hours ago', '18 hours ago', '12 hours ago',\n",
       "       '15 hours ago', '13 hours ago', '5 days ago', '17 hours ago',\n",
       "       '19 hours ago', '6 days ago', '21 hours ago', '2 days ago',\n",
       "       '1 week ago', nan, '23 hours ago', '3 days ago', '4 days ago',\n",
       "       '2 weeks ago', '3 weeks ago', '11 hours ago', '4 weeks ago',\n",
       "       '20 hours ago', '22 hours ago', '1 month ago', '2 months ago',\n",
       "       '3 months ago', '4 months ago', '5 months ago', '6 months ago',\n",
       "       '8 months ago', '4 years ago'], dtype=object)"
      ]
     },
     "execution_count": 17,
     "metadata": {},
     "output_type": "execute_result"
    }
   ],
   "source": [
    "da[\"date added\"].unique()"
   ]
  },
  {
   "cell_type": "code",
   "execution_count": 18,
   "id": "f8c3c8a7",
   "metadata": {},
   "outputs": [
    {
     "data": {
      "text/plain": [
       "count    8355.000000\n",
       "mean        3.169360\n",
       "std         1.842927\n",
       "min         0.000000\n",
       "25%         2.000000\n",
       "50%         3.000000\n",
       "75%         4.000000\n",
       "max        11.000000\n",
       "Name: bedrooms, dtype: float64"
      ]
     },
     "execution_count": 18,
     "metadata": {},
     "output_type": "execute_result"
    }
   ],
   "source": [
    "da['bedrooms'].describe()"
   ]
  },
  {
   "cell_type": "code",
   "execution_count": 19,
   "id": "e1dd6bba",
   "metadata": {},
   "outputs": [
    {
     "data": {
      "text/plain": [
       "count    8355.000000\n",
       "mean        3.363974\n",
       "std         1.999945\n",
       "min         0.000000\n",
       "25%         2.000000\n",
       "50%         3.000000\n",
       "75%         5.000000\n",
       "max        10.000000\n",
       "Name: bathrooms, dtype: float64"
      ]
     },
     "execution_count": 19,
     "metadata": {},
     "output_type": "execute_result"
    }
   ],
   "source": [
    "da['bathrooms'].describe()"
   ]
  },
  {
   "cell_type": "markdown",
   "id": "2227043a",
   "metadata": {},
   "source": [
    "As there is bedrooms and bathrooms with count zero and that is unlogical so we are going to try and use the description column to fill that missing data"
   ]
  },
  {
   "cell_type": "code",
   "execution_count": 20,
   "id": "ada24a89",
   "metadata": {},
   "outputs": [],
   "source": [
    "import re\n",
    "\n",
    "# Define regular expressions for extracting counts\n",
    "bedroom_pattern = r'(\\d+)\\s*BEDS?'\n",
    "bathroom_pattern = r'(\\d+)\\s*BATHS?|(\\d+)\\s*BATHROOMS?'\n",
    "\n",
    "# Function to extract bedroom count from description\n",
    "def extract_bedrooms(description):\n",
    "    match = re.search(bedroom_pattern, description, re.IGNORECASE)\n",
    "    if match:\n",
    "        return int(match.group(1))\n",
    "    return None\n",
    "\n",
    "# Function to extract bathroom count from description\n",
    "def extract_bathrooms(description):\n",
    "    match = re.search(bathroom_pattern, description, re.IGNORECASE)\n",
    "    if match:\n",
    "        return int(match.group(1) or match.group(2))\n",
    "    return None\n",
    "\n",
    "# Update bedrooms and bathrooms columns based on description\n",
    "da['bedrooms'] = da.apply(lambda row: extract_bedrooms(row['description']) if row['bedrooms'] == 0 else row['bedrooms'], axis=1)\n",
    "da['bathrooms'] = da.apply(lambda row: extract_bathrooms(row['description']) if row['bathrooms'] == 0 else row['bathrooms'], axis=1)\n",
    "\n",
    "\n"
   ]
  },
  {
   "cell_type": "code",
   "execution_count": 21,
   "id": "10f0e8b7",
   "metadata": {},
   "outputs": [
    {
     "data": {
      "text/plain": [
       "count    7460.000000\n",
       "mean        3.581501\n",
       "std         1.527223\n",
       "min         1.000000\n",
       "25%         2.000000\n",
       "50%         3.000000\n",
       "75%         5.000000\n",
       "max        11.000000\n",
       "Name: bedrooms, dtype: float64"
      ]
     },
     "execution_count": 21,
     "metadata": {},
     "output_type": "execute_result"
    }
   ],
   "source": [
    "da['bedrooms'].describe()"
   ]
  },
  {
   "cell_type": "code",
   "execution_count": 22,
   "id": "16d62949",
   "metadata": {},
   "outputs": [
    {
     "data": {
      "text/plain": [
       "count    7308.000000\n",
       "mean        3.846470\n",
       "std         1.648358\n",
       "min         1.000000\n",
       "25%         3.000000\n",
       "50%         3.000000\n",
       "75%         5.000000\n",
       "max        10.000000\n",
       "Name: bathrooms, dtype: float64"
      ]
     },
     "execution_count": 22,
     "metadata": {},
     "output_type": "execute_result"
    }
   ],
   "source": [
    "da['bathrooms'].describe()"
   ]
  },
  {
   "cell_type": "markdown",
   "id": "eecbcaee",
   "metadata": {},
   "source": [
    "Now that the minimun of bathrooms and bedrooms is 1, we proceed to the next row to clean it"
   ]
  },
  {
   "cell_type": "code",
   "execution_count": 23,
   "id": "86efe9c0",
   "metadata": {},
   "outputs": [
    {
     "data": {
      "text/html": [
       "<div>\n",
       "<style scoped>\n",
       "    .dataframe tbody tr th:only-of-type {\n",
       "        vertical-align: middle;\n",
       "    }\n",
       "\n",
       "    .dataframe tbody tr th {\n",
       "        vertical-align: top;\n",
       "    }\n",
       "\n",
       "    .dataframe thead th {\n",
       "        text-align: right;\n",
       "    }\n",
       "</style>\n",
       "<table border=\"1\" class=\"dataframe\">\n",
       "  <thead>\n",
       "    <tr style=\"text-align: right;\">\n",
       "      <th></th>\n",
       "      <th>title</th>\n",
       "      <th>price</th>\n",
       "      <th>date added</th>\n",
       "      <th>type</th>\n",
       "      <th>bedrooms</th>\n",
       "      <th>bathrooms</th>\n",
       "      <th>area</th>\n",
       "      <th>location</th>\n",
       "      <th>complete location</th>\n",
       "      <th>description</th>\n",
       "      <th>keywords</th>\n",
       "      <th>url</th>\n",
       "      <th>price_value</th>\n",
       "      <th>currency</th>\n",
       "      <th>price_in_lakh</th>\n",
       "    </tr>\n",
       "  </thead>\n",
       "  <tbody>\n",
       "    <tr>\n",
       "      <th>1</th>\n",
       "      <td>3 BEDS LUXURY 125 SQ YARDS VILLA FOR SALE LOCA...</td>\n",
       "      <td>1.45 Crore</td>\n",
       "      <td>5 hours ago</td>\n",
       "      <td>House</td>\n",
       "      <td>3.0</td>\n",
       "      <td>NaN</td>\n",
       "      <td>NaN</td>\n",
       "      <td>Bahria Town Karachi, Karachi, Sindh</td>\n",
       "      <td>Bahria Town - Ali Block, Bahria Town - Precinc...</td>\n",
       "      <td>3 BEDS LUXURY 125 SQ YARDS VILLA FOR SALE LOCA...</td>\n",
       "      <td>Bedrooms: 3,Bathrooms: 3,Kitchens: 2</td>\n",
       "      <td>https://www.zameen.com/Property/bahria_town_pr...</td>\n",
       "      <td>1.45</td>\n",
       "      <td>Crore</td>\n",
       "      <td>145.0</td>\n",
       "    </tr>\n",
       "    <tr>\n",
       "      <th>2</th>\n",
       "      <td>4 BEDS LUXURY SPORTS CITY VILLA FOR RENT BAHRI...</td>\n",
       "      <td>2.12 Crore</td>\n",
       "      <td>5 hours ago</td>\n",
       "      <td>House</td>\n",
       "      <td>4.0</td>\n",
       "      <td>NaN</td>\n",
       "      <td>NaN</td>\n",
       "      <td>Bahria Town Karachi, Karachi, Sindh</td>\n",
       "      <td>Bahria Sports City, Bahria Town Karachi, Karac...</td>\n",
       "      <td>4 BEDS LUXURY SPORTS CITY VILLA FOR RENT BAHRI...</td>\n",
       "      <td>Bedrooms: 4,Bathrooms: 4,Kitchens: 2</td>\n",
       "      <td>https://www.zameen.com/Property/bahria_town_ka...</td>\n",
       "      <td>2.12</td>\n",
       "      <td>Crore</td>\n",
       "      <td>212.0</td>\n",
       "    </tr>\n",
       "    <tr>\n",
       "      <th>3</th>\n",
       "      <td>3 BEDS LUXURY 235 SQ YARDS VILLA FOR SALE LOCA...</td>\n",
       "      <td>1.5 Crore</td>\n",
       "      <td>5 hours ago</td>\n",
       "      <td>House</td>\n",
       "      <td>3.0</td>\n",
       "      <td>NaN</td>\n",
       "      <td>NaN</td>\n",
       "      <td>Bahria Town Karachi, Karachi, Sindh</td>\n",
       "      <td>Bahria Town - Precinct 31, Bahria Town Karachi...</td>\n",
       "      <td>3 BEDS LUXURY 235 SQ YARDS VILLA FOR SALE LOCA...</td>\n",
       "      <td>Bedrooms: 3,Bathrooms: 3,Kitchens: 2</td>\n",
       "      <td>https://www.zameen.com/Property/bahria_town_ka...</td>\n",
       "      <td>1.50</td>\n",
       "      <td>Crore</td>\n",
       "      <td>150.0</td>\n",
       "    </tr>\n",
       "    <tr>\n",
       "      <th>6</th>\n",
       "      <td>3 BEDS LUXURY 152SQ YARDS VILLA FOR SALE LOCAT...</td>\n",
       "      <td>1.45 Crore</td>\n",
       "      <td>5 hours ago</td>\n",
       "      <td>House</td>\n",
       "      <td>3.0</td>\n",
       "      <td>NaN</td>\n",
       "      <td>NaN</td>\n",
       "      <td>Bahria Town Karachi, Karachi, Sindh</td>\n",
       "      <td>Bahria Town - Precinct 11-B, Bahria Town - Pre...</td>\n",
       "      <td>3 BEDS LUXURY 152SQ YARDS VILLA FOR SALE LOCAT...</td>\n",
       "      <td>Bedrooms: 3,Bathrooms: 3,Kitchens: 2</td>\n",
       "      <td>https://www.zameen.com/Property/bahria_town_pr...</td>\n",
       "      <td>1.45</td>\n",
       "      <td>Crore</td>\n",
       "      <td>145.0</td>\n",
       "    </tr>\n",
       "    <tr>\n",
       "      <th>7</th>\n",
       "      <td>3 BEDS LUXURY 235 SQ YARDS VILLA FOR SALE LOCA...</td>\n",
       "      <td>1.55 Crore</td>\n",
       "      <td>5 hours ago</td>\n",
       "      <td>House</td>\n",
       "      <td>3.0</td>\n",
       "      <td>NaN</td>\n",
       "      <td>NaN</td>\n",
       "      <td>Bahria Town Karachi, Karachi, Sindh</td>\n",
       "      <td>Bahria Town - Precinct 27, Bahria Town Karachi...</td>\n",
       "      <td>3 BEDS LUXURY 235 SQ YARDS VILLA FOR SALE LOCA...</td>\n",
       "      <td>Bedrooms: 3,Bathrooms: 3,Kitchens: 2</td>\n",
       "      <td>https://www.zameen.com/Property/bahria_town_ka...</td>\n",
       "      <td>1.55</td>\n",
       "      <td>Crore</td>\n",
       "      <td>155.0</td>\n",
       "    </tr>\n",
       "  </tbody>\n",
       "</table>\n",
       "</div>"
      ],
      "text/plain": [
       "                                               title       price   date added  \\\n",
       "1  3 BEDS LUXURY 125 SQ YARDS VILLA FOR SALE LOCA...  1.45 Crore  5 hours ago   \n",
       "2  4 BEDS LUXURY SPORTS CITY VILLA FOR RENT BAHRI...  2.12 Crore  5 hours ago   \n",
       "3  3 BEDS LUXURY 235 SQ YARDS VILLA FOR SALE LOCA...   1.5 Crore  5 hours ago   \n",
       "6  3 BEDS LUXURY 152SQ YARDS VILLA FOR SALE LOCAT...  1.45 Crore  5 hours ago   \n",
       "7  3 BEDS LUXURY 235 SQ YARDS VILLA FOR SALE LOCA...  1.55 Crore  5 hours ago   \n",
       "\n",
       "    type  bedrooms  bathrooms area                             location  \\\n",
       "1  House       3.0        NaN  NaN  Bahria Town Karachi, Karachi, Sindh   \n",
       "2  House       4.0        NaN  NaN  Bahria Town Karachi, Karachi, Sindh   \n",
       "3  House       3.0        NaN  NaN  Bahria Town Karachi, Karachi, Sindh   \n",
       "6  House       3.0        NaN  NaN  Bahria Town Karachi, Karachi, Sindh   \n",
       "7  House       3.0        NaN  NaN  Bahria Town Karachi, Karachi, Sindh   \n",
       "\n",
       "                                   complete location  \\\n",
       "1  Bahria Town - Ali Block, Bahria Town - Precinc...   \n",
       "2  Bahria Sports City, Bahria Town Karachi, Karac...   \n",
       "3  Bahria Town - Precinct 31, Bahria Town Karachi...   \n",
       "6  Bahria Town - Precinct 11-B, Bahria Town - Pre...   \n",
       "7  Bahria Town - Precinct 27, Bahria Town Karachi...   \n",
       "\n",
       "                                         description  \\\n",
       "1  3 BEDS LUXURY 125 SQ YARDS VILLA FOR SALE LOCA...   \n",
       "2  4 BEDS LUXURY SPORTS CITY VILLA FOR RENT BAHRI...   \n",
       "3  3 BEDS LUXURY 235 SQ YARDS VILLA FOR SALE LOCA...   \n",
       "6  3 BEDS LUXURY 152SQ YARDS VILLA FOR SALE LOCAT...   \n",
       "7  3 BEDS LUXURY 235 SQ YARDS VILLA FOR SALE LOCA...   \n",
       "\n",
       "                               keywords  \\\n",
       "1  Bedrooms: 3,Bathrooms: 3,Kitchens: 2   \n",
       "2  Bedrooms: 4,Bathrooms: 4,Kitchens: 2   \n",
       "3  Bedrooms: 3,Bathrooms: 3,Kitchens: 2   \n",
       "6  Bedrooms: 3,Bathrooms: 3,Kitchens: 2   \n",
       "7  Bedrooms: 3,Bathrooms: 3,Kitchens: 2   \n",
       "\n",
       "                                                 url  price_value currency  \\\n",
       "1  https://www.zameen.com/Property/bahria_town_pr...         1.45    Crore   \n",
       "2  https://www.zameen.com/Property/bahria_town_ka...         2.12    Crore   \n",
       "3  https://www.zameen.com/Property/bahria_town_ka...         1.50    Crore   \n",
       "6  https://www.zameen.com/Property/bahria_town_pr...         1.45    Crore   \n",
       "7  https://www.zameen.com/Property/bahria_town_ka...         1.55    Crore   \n",
       "\n",
       "   price_in_lakh  \n",
       "1          145.0  \n",
       "2          212.0  \n",
       "3          150.0  \n",
       "6          145.0  \n",
       "7          155.0  "
      ]
     },
     "execution_count": 23,
     "metadata": {},
     "output_type": "execute_result"
    }
   ],
   "source": [
    "#split the rows with null area values in a variable to review them\n",
    "da_nan_area = da[da['area'].isna()]\n",
    "da_nan_area.head()"
   ]
  },
  {
   "cell_type": "code",
   "execution_count": 24,
   "id": "e793eac5",
   "metadata": {},
   "outputs": [
    {
     "data": {
      "text/plain": [
       "1082"
      ]
     },
     "execution_count": 24,
     "metadata": {},
     "output_type": "execute_result"
    }
   ],
   "source": [
    "da['area'].isna().sum()"
   ]
  },
  {
   "cell_type": "code",
   "execution_count": 25,
   "id": "c4b5e0f0",
   "metadata": {},
   "outputs": [],
   "source": [
    "area_pattern = r'(\\d+)\\s*SQ\\s*YARDS?'\n",
    "\n",
    "# Function to extract area from description\n",
    "def extract_area(description):\n",
    "    if pd.isna(description):\n",
    "        return None\n",
    "    match = re.search(area_pattern, description, re.IGNORECASE)\n",
    "    if match:\n",
    "        return int(match.group(1))\n",
    "    return None\n",
    "\n",
    "# Update 'area' column based on description\n",
    "da['area'] = da.apply(lambda row: extract_area(row['description']) if pd.isna(row['area']) else row['area'], axis=1)\n",
    "\n",
    "\n"
   ]
  },
  {
   "cell_type": "code",
   "execution_count": 26,
   "id": "5bcc5c7f",
   "metadata": {},
   "outputs": [
    {
     "data": {
      "text/plain": [
       "1041"
      ]
     },
     "execution_count": 26,
     "metadata": {},
     "output_type": "execute_result"
    }
   ],
   "source": [
    "da['area'].isna().sum()"
   ]
  },
  {
   "cell_type": "code",
   "execution_count": 27,
   "id": "6c2e8923",
   "metadata": {},
   "outputs": [],
   "source": [
    "da = da.dropna(subset=['area'])"
   ]
  },
  {
   "cell_type": "code",
   "execution_count": 28,
   "id": "ab649b73",
   "metadata": {},
   "outputs": [
    {
     "data": {
      "text/html": [
       "<div>\n",
       "<style scoped>\n",
       "    .dataframe tbody tr th:only-of-type {\n",
       "        vertical-align: middle;\n",
       "    }\n",
       "\n",
       "    .dataframe tbody tr th {\n",
       "        vertical-align: top;\n",
       "    }\n",
       "\n",
       "    .dataframe thead th {\n",
       "        text-align: right;\n",
       "    }\n",
       "</style>\n",
       "<table border=\"1\" class=\"dataframe\">\n",
       "  <thead>\n",
       "    <tr style=\"text-align: right;\">\n",
       "      <th></th>\n",
       "      <th>title</th>\n",
       "      <th>price</th>\n",
       "      <th>date added</th>\n",
       "      <th>type</th>\n",
       "      <th>bedrooms</th>\n",
       "      <th>bathrooms</th>\n",
       "      <th>area</th>\n",
       "      <th>location</th>\n",
       "      <th>complete location</th>\n",
       "      <th>description</th>\n",
       "      <th>keywords</th>\n",
       "      <th>url</th>\n",
       "      <th>price_value</th>\n",
       "      <th>currency</th>\n",
       "      <th>price_in_lakh</th>\n",
       "      <th>area_value</th>\n",
       "      <th>area_unit</th>\n",
       "    </tr>\n",
       "  </thead>\n",
       "  <tbody>\n",
       "    <tr>\n",
       "      <th>0</th>\n",
       "      <td>600 Yard Bungalow For Sale In DHA Phase 6</td>\n",
       "      <td>11.5 Crore</td>\n",
       "      <td>14 hours ago</td>\n",
       "      <td>House</td>\n",
       "      <td>5.0</td>\n",
       "      <td>6.0</td>\n",
       "      <td>600 Sq. Yd.</td>\n",
       "      <td>DHA Defence, Karachi, Sindh</td>\n",
       "      <td>DHA Phase 6, DHA Defence, Karachi, Sindh</td>\n",
       "      <td>Chance Deal 600 Yard Bungalow For Sale</td>\n",
       "      <td>Built in year: 1,Parking Spaces: 5,Flooring,Ot...</td>\n",
       "      <td>https://www.zameen.com/Property/d_h_a_dha_phas...</td>\n",
       "      <td>11.50</td>\n",
       "      <td>Crore</td>\n",
       "      <td>1150.0</td>\n",
       "      <td>600</td>\n",
       "      <td>Sq</td>\n",
       "    </tr>\n",
       "    <tr>\n",
       "      <th>1</th>\n",
       "      <td>3 BEDS LUXURY 125 SQ YARDS VILLA FOR SALE LOCA...</td>\n",
       "      <td>1.45 Crore</td>\n",
       "      <td>5 hours ago</td>\n",
       "      <td>House</td>\n",
       "      <td>3.0</td>\n",
       "      <td>NaN</td>\n",
       "      <td>125</td>\n",
       "      <td>Bahria Town Karachi, Karachi, Sindh</td>\n",
       "      <td>Bahria Town - Ali Block, Bahria Town - Precinc...</td>\n",
       "      <td>3 BEDS LUXURY 125 SQ YARDS VILLA FOR SALE LOCA...</td>\n",
       "      <td>Bedrooms: 3,Bathrooms: 3,Kitchens: 2</td>\n",
       "      <td>https://www.zameen.com/Property/bahria_town_pr...</td>\n",
       "      <td>1.45</td>\n",
       "      <td>Crore</td>\n",
       "      <td>145.0</td>\n",
       "      <td>NaN</td>\n",
       "      <td>NaN</td>\n",
       "    </tr>\n",
       "    <tr>\n",
       "      <th>3</th>\n",
       "      <td>3 BEDS LUXURY 235 SQ YARDS VILLA FOR SALE LOCA...</td>\n",
       "      <td>1.5 Crore</td>\n",
       "      <td>5 hours ago</td>\n",
       "      <td>House</td>\n",
       "      <td>3.0</td>\n",
       "      <td>NaN</td>\n",
       "      <td>235</td>\n",
       "      <td>Bahria Town Karachi, Karachi, Sindh</td>\n",
       "      <td>Bahria Town - Precinct 31, Bahria Town Karachi...</td>\n",
       "      <td>3 BEDS LUXURY 235 SQ YARDS VILLA FOR SALE LOCA...</td>\n",
       "      <td>Bedrooms: 3,Bathrooms: 3,Kitchens: 2</td>\n",
       "      <td>https://www.zameen.com/Property/bahria_town_ka...</td>\n",
       "      <td>1.50</td>\n",
       "      <td>Crore</td>\n",
       "      <td>150.0</td>\n",
       "      <td>NaN</td>\n",
       "      <td>NaN</td>\n",
       "    </tr>\n",
       "    <tr>\n",
       "      <th>4</th>\n",
       "      <td>Buying A Flat In Clifton - Block 9?</td>\n",
       "      <td>4 Crore</td>\n",
       "      <td>6 hours ago</td>\n",
       "      <td>Flat</td>\n",
       "      <td>3.0</td>\n",
       "      <td>3.0</td>\n",
       "      <td>200 Sq. Yd.</td>\n",
       "      <td>Clifton, Karachi, Sindh</td>\n",
       "      <td>Clifton - Block 9, Clifton, Karachi, Sindh</td>\n",
       "      <td>Apartment for sale</td>\n",
       "      <td>Flooring,Electricity Backup,Broadband Internet...</td>\n",
       "      <td>https://www.zameen.com/Property/clifton_clifto...</td>\n",
       "      <td>4.00</td>\n",
       "      <td>Crore</td>\n",
       "      <td>400.0</td>\n",
       "      <td>200</td>\n",
       "      <td>Sq</td>\n",
       "    </tr>\n",
       "    <tr>\n",
       "      <th>5</th>\n",
       "      <td>500 Yards Bungalow Available For Sale In Phase...</td>\n",
       "      <td>9 Crore</td>\n",
       "      <td>6 hours ago</td>\n",
       "      <td>House</td>\n",
       "      <td>7.0</td>\n",
       "      <td>6.0</td>\n",
       "      <td>500 Sq. Yd.</td>\n",
       "      <td>DHA Defence, Karachi, Sindh</td>\n",
       "      <td>DHA Phase 7, DHA Defence, Karachi, Sindh</td>\n",
       "      <td>500 Square Yards Bungalow Available For Sale I...</td>\n",
       "      <td>Flooring,Electricity Backup,Bedrooms: 7,Bathro...</td>\n",
       "      <td>https://www.zameen.com/Property/d_h_a_dha_phas...</td>\n",
       "      <td>9.00</td>\n",
       "      <td>Crore</td>\n",
       "      <td>900.0</td>\n",
       "      <td>500</td>\n",
       "      <td>Sq</td>\n",
       "    </tr>\n",
       "  </tbody>\n",
       "</table>\n",
       "</div>"
      ],
      "text/plain": [
       "                                               title       price  \\\n",
       "0          600 Yard Bungalow For Sale In DHA Phase 6  11.5 Crore   \n",
       "1  3 BEDS LUXURY 125 SQ YARDS VILLA FOR SALE LOCA...  1.45 Crore   \n",
       "3  3 BEDS LUXURY 235 SQ YARDS VILLA FOR SALE LOCA...   1.5 Crore   \n",
       "4                Buying A Flat In Clifton - Block 9?     4 Crore   \n",
       "5  500 Yards Bungalow Available For Sale In Phase...     9 Crore   \n",
       "\n",
       "     date added   type  bedrooms  bathrooms         area  \\\n",
       "0  14 hours ago  House       5.0        6.0  600 Sq. Yd.   \n",
       "1   5 hours ago  House       3.0        NaN          125   \n",
       "3   5 hours ago  House       3.0        NaN          235   \n",
       "4   6 hours ago   Flat       3.0        3.0  200 Sq. Yd.   \n",
       "5   6 hours ago  House       7.0        6.0  500 Sq. Yd.   \n",
       "\n",
       "                              location  \\\n",
       "0          DHA Defence, Karachi, Sindh   \n",
       "1  Bahria Town Karachi, Karachi, Sindh   \n",
       "3  Bahria Town Karachi, Karachi, Sindh   \n",
       "4              Clifton, Karachi, Sindh   \n",
       "5          DHA Defence, Karachi, Sindh   \n",
       "\n",
       "                                   complete location  \\\n",
       "0           DHA Phase 6, DHA Defence, Karachi, Sindh   \n",
       "1  Bahria Town - Ali Block, Bahria Town - Precinc...   \n",
       "3  Bahria Town - Precinct 31, Bahria Town Karachi...   \n",
       "4         Clifton - Block 9, Clifton, Karachi, Sindh   \n",
       "5           DHA Phase 7, DHA Defence, Karachi, Sindh   \n",
       "\n",
       "                                         description  \\\n",
       "0             Chance Deal 600 Yard Bungalow For Sale   \n",
       "1  3 BEDS LUXURY 125 SQ YARDS VILLA FOR SALE LOCA...   \n",
       "3  3 BEDS LUXURY 235 SQ YARDS VILLA FOR SALE LOCA...   \n",
       "4                                 Apartment for sale   \n",
       "5  500 Square Yards Bungalow Available For Sale I...   \n",
       "\n",
       "                                            keywords  \\\n",
       "0  Built in year: 1,Parking Spaces: 5,Flooring,Ot...   \n",
       "1               Bedrooms: 3,Bathrooms: 3,Kitchens: 2   \n",
       "3               Bedrooms: 3,Bathrooms: 3,Kitchens: 2   \n",
       "4  Flooring,Electricity Backup,Broadband Internet...   \n",
       "5  Flooring,Electricity Backup,Bedrooms: 7,Bathro...   \n",
       "\n",
       "                                                 url  price_value currency  \\\n",
       "0  https://www.zameen.com/Property/d_h_a_dha_phas...        11.50    Crore   \n",
       "1  https://www.zameen.com/Property/bahria_town_pr...         1.45    Crore   \n",
       "3  https://www.zameen.com/Property/bahria_town_ka...         1.50    Crore   \n",
       "4  https://www.zameen.com/Property/clifton_clifto...         4.00    Crore   \n",
       "5  https://www.zameen.com/Property/d_h_a_dha_phas...         9.00    Crore   \n",
       "\n",
       "   price_in_lakh area_value area_unit  \n",
       "0         1150.0        600        Sq  \n",
       "1          145.0        NaN       NaN  \n",
       "3          150.0        NaN       NaN  \n",
       "4          400.0        200        Sq  \n",
       "5          900.0        500        Sq  "
      ]
     },
     "execution_count": 28,
     "metadata": {},
     "output_type": "execute_result"
    }
   ],
   "source": [
    "da[['area_value', 'area_unit']] = da['area'].str.extract(r'(\\d+\\.?\\d*)\\s*(\\w+)')\n",
    "da.head()"
   ]
  },
  {
   "cell_type": "code",
   "execution_count": 29,
   "id": "05f4113b",
   "metadata": {},
   "outputs": [
    {
     "data": {
      "text/plain": [
       "array(['Sq', nan], dtype=object)"
      ]
     },
     "execution_count": 29,
     "metadata": {},
     "output_type": "execute_result"
    }
   ],
   "source": [
    "da[\"area_unit\"].unique()"
   ]
  },
  {
   "cell_type": "code",
   "execution_count": 30,
   "id": "c4cc4f34",
   "metadata": {},
   "outputs": [
    {
     "data": {
      "text/plain": [
       "41"
      ]
     },
     "execution_count": 30,
     "metadata": {},
     "output_type": "execute_result"
    }
   ],
   "source": [
    "da[\"area_value\"].isna().sum()"
   ]
  },
  {
   "cell_type": "code",
   "execution_count": 31,
   "id": "4b11a516",
   "metadata": {},
   "outputs": [],
   "source": [
    "#Drop the null values of the area\n",
    "da = da.dropna(subset=['area_value'])"
   ]
  },
  {
   "cell_type": "code",
   "execution_count": 32,
   "id": "e632b351",
   "metadata": {},
   "outputs": [],
   "source": [
    "da[['neighborhood']] = da['location'].str.split(',', n=1, expand=True)[[0]]\n",
    "da[['city']] = da['location'].str.split(',', n=1, expand=True)[[1]]\n"
   ]
  },
  {
   "cell_type": "code",
   "execution_count": 33,
   "id": "c9ad4e5a",
   "metadata": {},
   "outputs": [
    {
     "data": {
      "text/html": [
       "<div>\n",
       "<style scoped>\n",
       "    .dataframe tbody tr th:only-of-type {\n",
       "        vertical-align: middle;\n",
       "    }\n",
       "\n",
       "    .dataframe tbody tr th {\n",
       "        vertical-align: top;\n",
       "    }\n",
       "\n",
       "    .dataframe thead th {\n",
       "        text-align: right;\n",
       "    }\n",
       "</style>\n",
       "<table border=\"1\" class=\"dataframe\">\n",
       "  <thead>\n",
       "    <tr style=\"text-align: right;\">\n",
       "      <th></th>\n",
       "      <th>title</th>\n",
       "      <th>price</th>\n",
       "      <th>date added</th>\n",
       "      <th>type</th>\n",
       "      <th>bedrooms</th>\n",
       "      <th>bathrooms</th>\n",
       "      <th>area</th>\n",
       "      <th>location</th>\n",
       "      <th>complete location</th>\n",
       "      <th>description</th>\n",
       "      <th>keywords</th>\n",
       "      <th>url</th>\n",
       "      <th>price_value</th>\n",
       "      <th>currency</th>\n",
       "      <th>price_in_lakh</th>\n",
       "      <th>area_value</th>\n",
       "      <th>area_unit</th>\n",
       "      <th>neighborhood</th>\n",
       "      <th>city</th>\n",
       "    </tr>\n",
       "  </thead>\n",
       "  <tbody>\n",
       "    <tr>\n",
       "      <th>0</th>\n",
       "      <td>600 Yard Bungalow For Sale In DHA Phase 6</td>\n",
       "      <td>11.5 Crore</td>\n",
       "      <td>14 hours ago</td>\n",
       "      <td>House</td>\n",
       "      <td>5.0</td>\n",
       "      <td>6.0</td>\n",
       "      <td>600 Sq. Yd.</td>\n",
       "      <td>DHA Defence, Karachi, Sindh</td>\n",
       "      <td>DHA Phase 6, DHA Defence, Karachi, Sindh</td>\n",
       "      <td>Chance Deal 600 Yard Bungalow For Sale</td>\n",
       "      <td>Built in year: 1,Parking Spaces: 5,Flooring,Ot...</td>\n",
       "      <td>https://www.zameen.com/Property/d_h_a_dha_phas...</td>\n",
       "      <td>11.5</td>\n",
       "      <td>Crore</td>\n",
       "      <td>1150.0</td>\n",
       "      <td>600</td>\n",
       "      <td>Sq</td>\n",
       "      <td>DHA Defence</td>\n",
       "      <td>Karachi, Sindh</td>\n",
       "    </tr>\n",
       "    <tr>\n",
       "      <th>4</th>\n",
       "      <td>Buying A Flat In Clifton - Block 9?</td>\n",
       "      <td>4 Crore</td>\n",
       "      <td>6 hours ago</td>\n",
       "      <td>Flat</td>\n",
       "      <td>3.0</td>\n",
       "      <td>3.0</td>\n",
       "      <td>200 Sq. Yd.</td>\n",
       "      <td>Clifton, Karachi, Sindh</td>\n",
       "      <td>Clifton - Block 9, Clifton, Karachi, Sindh</td>\n",
       "      <td>Apartment for sale</td>\n",
       "      <td>Flooring,Electricity Backup,Broadband Internet...</td>\n",
       "      <td>https://www.zameen.com/Property/clifton_clifto...</td>\n",
       "      <td>4.0</td>\n",
       "      <td>Crore</td>\n",
       "      <td>400.0</td>\n",
       "      <td>200</td>\n",
       "      <td>Sq</td>\n",
       "      <td>Clifton</td>\n",
       "      <td>Karachi, Sindh</td>\n",
       "    </tr>\n",
       "    <tr>\n",
       "      <th>5</th>\n",
       "      <td>500 Yards Bungalow Available For Sale In Phase...</td>\n",
       "      <td>9 Crore</td>\n",
       "      <td>6 hours ago</td>\n",
       "      <td>House</td>\n",
       "      <td>7.0</td>\n",
       "      <td>6.0</td>\n",
       "      <td>500 Sq. Yd.</td>\n",
       "      <td>DHA Defence, Karachi, Sindh</td>\n",
       "      <td>DHA Phase 7, DHA Defence, Karachi, Sindh</td>\n",
       "      <td>500 Square Yards Bungalow Available For Sale I...</td>\n",
       "      <td>Flooring,Electricity Backup,Bedrooms: 7,Bathro...</td>\n",
       "      <td>https://www.zameen.com/Property/d_h_a_dha_phas...</td>\n",
       "      <td>9.0</td>\n",
       "      <td>Crore</td>\n",
       "      <td>900.0</td>\n",
       "      <td>500</td>\n",
       "      <td>Sq</td>\n",
       "      <td>DHA Defence</td>\n",
       "      <td>Karachi, Sindh</td>\n",
       "    </tr>\n",
       "    <tr>\n",
       "      <th>8</th>\n",
       "      <td>Brand New State Of The Art Building 3 Bed Apar...</td>\n",
       "      <td>6 Crore</td>\n",
       "      <td>10 hours ago</td>\n",
       "      <td>Flat</td>\n",
       "      <td>3.0</td>\n",
       "      <td>4.0</td>\n",
       "      <td>200 Sq. Yd.</td>\n",
       "      <td>Clifton, Karachi, Sindh</td>\n",
       "      <td>Clifton - Block 8, Clifton, Karachi, Sindh</td>\n",
       "      <td>Clifton Block 8 Near 3 Talwar</td>\n",
       "      <td>Built in year: 2022,Parking Spaces: 1,Flooring...</td>\n",
       "      <td>https://www.zameen.com/Property/clifton_clifto...</td>\n",
       "      <td>6.0</td>\n",
       "      <td>Crore</td>\n",
       "      <td>600.0</td>\n",
       "      <td>200</td>\n",
       "      <td>Sq</td>\n",
       "      <td>Clifton</td>\n",
       "      <td>Karachi, Sindh</td>\n",
       "    </tr>\n",
       "    <tr>\n",
       "      <th>9</th>\n",
       "      <td>Flat For Sale 3 Bed Dd 2200 Sq Ft Platinum Res...</td>\n",
       "      <td>3.7 Crore</td>\n",
       "      <td>5 hours ago</td>\n",
       "      <td>Flat</td>\n",
       "      <td>3.0</td>\n",
       "      <td>3.0</td>\n",
       "      <td>244 Sq. Yd.</td>\n",
       "      <td>Clifton, Karachi, Sindh</td>\n",
       "      <td>Clifton, Karachi, Sindh</td>\n",
       "      <td>flat for sale Clifton Platinium residency 3 be...</td>\n",
       "      <td>Flooring,Floor: 3,Elevators: 1,Bedrooms: 3,Bat...</td>\n",
       "      <td>https://www.zameen.com/Property/karachi_clifto...</td>\n",
       "      <td>3.7</td>\n",
       "      <td>Crore</td>\n",
       "      <td>370.0</td>\n",
       "      <td>244</td>\n",
       "      <td>Sq</td>\n",
       "      <td>Clifton</td>\n",
       "      <td>Karachi, Sindh</td>\n",
       "    </tr>\n",
       "  </tbody>\n",
       "</table>\n",
       "</div>"
      ],
      "text/plain": [
       "                                               title       price  \\\n",
       "0          600 Yard Bungalow For Sale In DHA Phase 6  11.5 Crore   \n",
       "4                Buying A Flat In Clifton - Block 9?     4 Crore   \n",
       "5  500 Yards Bungalow Available For Sale In Phase...     9 Crore   \n",
       "8  Brand New State Of The Art Building 3 Bed Apar...     6 Crore   \n",
       "9  Flat For Sale 3 Bed Dd 2200 Sq Ft Platinum Res...   3.7 Crore   \n",
       "\n",
       "     date added   type  bedrooms  bathrooms         area  \\\n",
       "0  14 hours ago  House       5.0        6.0  600 Sq. Yd.   \n",
       "4   6 hours ago   Flat       3.0        3.0  200 Sq. Yd.   \n",
       "5   6 hours ago  House       7.0        6.0  500 Sq. Yd.   \n",
       "8  10 hours ago   Flat       3.0        4.0  200 Sq. Yd.   \n",
       "9   5 hours ago   Flat       3.0        3.0  244 Sq. Yd.   \n",
       "\n",
       "                      location                           complete location  \\\n",
       "0  DHA Defence, Karachi, Sindh    DHA Phase 6, DHA Defence, Karachi, Sindh   \n",
       "4      Clifton, Karachi, Sindh  Clifton - Block 9, Clifton, Karachi, Sindh   \n",
       "5  DHA Defence, Karachi, Sindh    DHA Phase 7, DHA Defence, Karachi, Sindh   \n",
       "8      Clifton, Karachi, Sindh  Clifton - Block 8, Clifton, Karachi, Sindh   \n",
       "9      Clifton, Karachi, Sindh                     Clifton, Karachi, Sindh   \n",
       "\n",
       "                                         description  \\\n",
       "0             Chance Deal 600 Yard Bungalow For Sale   \n",
       "4                                 Apartment for sale   \n",
       "5  500 Square Yards Bungalow Available For Sale I...   \n",
       "8                      Clifton Block 8 Near 3 Talwar   \n",
       "9  flat for sale Clifton Platinium residency 3 be...   \n",
       "\n",
       "                                            keywords  \\\n",
       "0  Built in year: 1,Parking Spaces: 5,Flooring,Ot...   \n",
       "4  Flooring,Electricity Backup,Broadband Internet...   \n",
       "5  Flooring,Electricity Backup,Bedrooms: 7,Bathro...   \n",
       "8  Built in year: 2022,Parking Spaces: 1,Flooring...   \n",
       "9  Flooring,Floor: 3,Elevators: 1,Bedrooms: 3,Bat...   \n",
       "\n",
       "                                                 url  price_value currency  \\\n",
       "0  https://www.zameen.com/Property/d_h_a_dha_phas...         11.5    Crore   \n",
       "4  https://www.zameen.com/Property/clifton_clifto...          4.0    Crore   \n",
       "5  https://www.zameen.com/Property/d_h_a_dha_phas...          9.0    Crore   \n",
       "8  https://www.zameen.com/Property/clifton_clifto...          6.0    Crore   \n",
       "9  https://www.zameen.com/Property/karachi_clifto...          3.7    Crore   \n",
       "\n",
       "   price_in_lakh area_value area_unit neighborhood             city  \n",
       "0         1150.0        600        Sq  DHA Defence   Karachi, Sindh  \n",
       "4          400.0        200        Sq      Clifton   Karachi, Sindh  \n",
       "5          900.0        500        Sq  DHA Defence   Karachi, Sindh  \n",
       "8          600.0        200        Sq      Clifton   Karachi, Sindh  \n",
       "9          370.0        244        Sq      Clifton   Karachi, Sindh  "
      ]
     },
     "execution_count": 33,
     "metadata": {},
     "output_type": "execute_result"
    }
   ],
   "source": [
    "da.head()"
   ]
  },
  {
   "cell_type": "code",
   "execution_count": 34,
   "id": "f460c269",
   "metadata": {},
   "outputs": [
    {
     "data": {
      "text/plain": [
       "3"
      ]
     },
     "execution_count": 34,
     "metadata": {},
     "output_type": "execute_result"
    }
   ],
   "source": [
    "#Get the number of neighborhoods in the provided data\n",
    "da[\"neighborhood\"].nunique()"
   ]
  },
  {
   "cell_type": "code",
   "execution_count": 35,
   "id": "a94dd2be",
   "metadata": {},
   "outputs": [
    {
     "data": {
      "text/plain": [
       "1"
      ]
     },
     "execution_count": 35,
     "metadata": {},
     "output_type": "execute_result"
    }
   ],
   "source": [
    "#Get the number of cities in the provided data\n",
    "da[\"city\"].nunique()"
   ]
  },
  {
   "cell_type": "code",
   "execution_count": 36,
   "id": "979b5c47",
   "metadata": {},
   "outputs": [],
   "source": [
    "#keeping the columns of value for our analysis\n",
    "columns_to_keep = ['price_in_lakh', 'type','bedrooms','bathrooms','area_value','neighborhood']\n",
    "da = da[columns_to_keep]"
   ]
  },
  {
   "cell_type": "code",
   "execution_count": 37,
   "id": "ecb440d0",
   "metadata": {},
   "outputs": [
    {
     "data": {
      "text/html": [
       "<div>\n",
       "<style scoped>\n",
       "    .dataframe tbody tr th:only-of-type {\n",
       "        vertical-align: middle;\n",
       "    }\n",
       "\n",
       "    .dataframe tbody tr th {\n",
       "        vertical-align: top;\n",
       "    }\n",
       "\n",
       "    .dataframe thead th {\n",
       "        text-align: right;\n",
       "    }\n",
       "</style>\n",
       "<table border=\"1\" class=\"dataframe\">\n",
       "  <thead>\n",
       "    <tr style=\"text-align: right;\">\n",
       "      <th></th>\n",
       "      <th>price_in_lakh</th>\n",
       "      <th>type</th>\n",
       "      <th>bedrooms</th>\n",
       "      <th>bathrooms</th>\n",
       "      <th>area_value</th>\n",
       "      <th>neighborhood</th>\n",
       "    </tr>\n",
       "  </thead>\n",
       "  <tbody>\n",
       "    <tr>\n",
       "      <th>0</th>\n",
       "      <td>1150.0</td>\n",
       "      <td>House</td>\n",
       "      <td>5.0</td>\n",
       "      <td>6.0</td>\n",
       "      <td>600</td>\n",
       "      <td>DHA Defence</td>\n",
       "    </tr>\n",
       "    <tr>\n",
       "      <th>4</th>\n",
       "      <td>400.0</td>\n",
       "      <td>Flat</td>\n",
       "      <td>3.0</td>\n",
       "      <td>3.0</td>\n",
       "      <td>200</td>\n",
       "      <td>Clifton</td>\n",
       "    </tr>\n",
       "    <tr>\n",
       "      <th>5</th>\n",
       "      <td>900.0</td>\n",
       "      <td>House</td>\n",
       "      <td>7.0</td>\n",
       "      <td>6.0</td>\n",
       "      <td>500</td>\n",
       "      <td>DHA Defence</td>\n",
       "    </tr>\n",
       "    <tr>\n",
       "      <th>8</th>\n",
       "      <td>600.0</td>\n",
       "      <td>Flat</td>\n",
       "      <td>3.0</td>\n",
       "      <td>4.0</td>\n",
       "      <td>200</td>\n",
       "      <td>Clifton</td>\n",
       "    </tr>\n",
       "    <tr>\n",
       "      <th>9</th>\n",
       "      <td>370.0</td>\n",
       "      <td>Flat</td>\n",
       "      <td>3.0</td>\n",
       "      <td>3.0</td>\n",
       "      <td>244</td>\n",
       "      <td>Clifton</td>\n",
       "    </tr>\n",
       "  </tbody>\n",
       "</table>\n",
       "</div>"
      ],
      "text/plain": [
       "   price_in_lakh   type  bedrooms  bathrooms area_value neighborhood\n",
       "0         1150.0  House       5.0        6.0        600  DHA Defence\n",
       "4          400.0   Flat       3.0        3.0        200      Clifton\n",
       "5          900.0  House       7.0        6.0        500  DHA Defence\n",
       "8          600.0   Flat       3.0        4.0        200      Clifton\n",
       "9          370.0   Flat       3.0        3.0        244      Clifton"
      ]
     },
     "execution_count": 37,
     "metadata": {},
     "output_type": "execute_result"
    }
   ],
   "source": [
    "#Check my data\n",
    "da.head()"
   ]
  },
  {
   "cell_type": "markdown",
   "id": "6b314c45",
   "metadata": {},
   "source": [
    "# Visualizing the data"
   ]
  },
  {
   "cell_type": "code",
   "execution_count": 41,
   "id": "ee9586a7",
   "metadata": {},
   "outputs": [
    {
     "data": {
      "text/plain": [
       "Text(0, 0.5, 'Price [Lakh]')"
      ]
     },
     "execution_count": 41,
     "metadata": {},
     "output_type": "execute_result"
    },
    {
     "data": {
      "image/png": "[encoded data removed]",
      "text/plain": [
       "<Figure size 432x288 with 1 Axes>"
      ]
     },
     "metadata": {
      "needs_background": "light"
     },
     "output_type": "display_data"
    }
   ],
   "source": [
    "plt.scatter(x = da[\"area_value\"], y = da[\"price_in_lakh\"])\n",
    "plt.xlabel (\"Area [sq yards]\")\n",
    "plt.ylabel (\"Price [Lakh]\")"
   ]
  },
  {
   "cell_type": "code",
   "execution_count": 42,
   "id": "17a27b7e",
   "metadata": {},
   "outputs": [
    {
     "data": {
      "image/png": "[encoded data removed]",
      "text/plain": [
       "<Figure size 432x288 with 1 Axes>"
      ]
     },
     "metadata": {
      "needs_background": "light"
     },
     "output_type": "display_data"
    }
   ],
   "source": [
    "plt.hist(da[\"area_value\"])\n",
    "plt.xlabel(\"Area [sq yards]\")\n",
    "plt.title(\"Distribution of Apartment Sizes\");"
   ]
  },
  {
   "cell_type": "markdown",
   "id": "53fe1627",
   "metadata": {},
   "source": [
    "This histogram distribution is highly skewed to the right, revealing that the majority of apartments are small, with a few larger ones being represented.\n"
   ]
  },
  {
   "cell_type": "code",
   "execution_count": 48,
   "id": "3b5f10d7",
   "metadata": {},
   "outputs": [],
   "source": [
    "#To apply one hot encoding so that we can apply a model on our data\n",
    "da = pd.get_dummies(da, columns=['neighborhood'])"
   ]
  },
  {
   "cell_type": "code",
   "execution_count": 50,
   "id": "7003f02c",
   "metadata": {},
   "outputs": [],
   "source": [
    "da = pd.get_dummies(da, columns=['type'])"
   ]
  },
  {
   "cell_type": "code",
   "execution_count": 51,
   "id": "2cea0e95",
   "metadata": {},
   "outputs": [
    {
     "name": "stdout",
     "output_type": "stream",
     "text": [
      "<class 'pandas.core.frame.DataFrame'>\n",
      "Index: 7273 entries, 0 to 8413\n",
      "Data columns (total 9 columns):\n",
      " #   Column                            Non-Null Count  Dtype  \n",
      "---  ------                            --------------  -----  \n",
      " 0   price_in_lakh                     7273 non-null   float64\n",
      " 1   bedrooms                          7273 non-null   float64\n",
      " 2   bathrooms                         7273 non-null   float64\n",
      " 3   area_value                        7273 non-null   object \n",
      " 4   neighborhood_Bahria Town Karachi  7273 non-null   bool   \n",
      " 5   neighborhood_Clifton              7273 non-null   bool   \n",
      " 6   neighborhood_DHA Defence          7273 non-null   bool   \n",
      " 7   type_Flat                         7273 non-null   bool   \n",
      " 8   type_House                        7273 non-null   bool   \n",
      "dtypes: bool(5), float64(3), object(1)\n",
      "memory usage: 319.6+ KB\n"
     ]
    }
   ],
   "source": [
    "#Check that the data type is suitable to enter the model\n",
    "da.info()"
   ]
  },
  {
   "cell_type": "code",
   "execution_count": 52,
   "id": "cebbcce2",
   "metadata": {},
   "outputs": [],
   "source": [
    "#Change the data type of area_value into float\n",
    "da['area_value'] = da['area_value'].astype(float)"
   ]
  },
  {
   "cell_type": "code",
   "execution_count": 53,
   "id": "09afb596",
   "metadata": {},
   "outputs": [
    {
     "name": "stdout",
     "output_type": "stream",
     "text": [
      "<class 'pandas.core.frame.DataFrame'>\n",
      "Index: 7273 entries, 0 to 8413\n",
      "Data columns (total 9 columns):\n",
      " #   Column                            Non-Null Count  Dtype  \n",
      "---  ------                            --------------  -----  \n",
      " 0   price_in_lakh                     7273 non-null   float64\n",
      " 1   bedrooms                          7273 non-null   float64\n",
      " 2   bathrooms                         7273 non-null   float64\n",
      " 3   area_value                        7273 non-null   float64\n",
      " 4   neighborhood_Bahria Town Karachi  7273 non-null   bool   \n",
      " 5   neighborhood_Clifton              7273 non-null   bool   \n",
      " 6   neighborhood_DHA Defence          7273 non-null   bool   \n",
      " 7   type_Flat                         7273 non-null   bool   \n",
      " 8   type_House                        7273 non-null   bool   \n",
      "dtypes: bool(5), float64(4)\n",
      "memory usage: 319.6 KB\n"
     ]
    }
   ],
   "source": [
    "da.info()"
   ]
  },
  {
   "cell_type": "markdown",
   "id": "5c535331",
   "metadata": {},
   "source": [
    "# Split"
   ]
  },
  {
   "cell_type": "code",
   "execution_count": 60,
   "id": "1c126f46",
   "metadata": {},
   "outputs": [],
   "source": [
    "target = da[\"price_in_lakh\"]\n",
    "features = da.drop(columns =\"price_in_lakh\")"
   ]
  },
  {
   "cell_type": "code",
   "execution_count": 62,
   "id": "bc0e9341",
   "metadata": {},
   "outputs": [
    {
     "name": "stdout",
     "output_type": "stream",
     "text": [
      "59.93926907202676\n",
      "56.12426949838213\n"
     ]
    }
   ],
   "source": [
    "from sklearn.model_selection import train_test_split\n",
    "X_train, X_test, y_train, y_test = train_test_split(features,target, test_size=0.3, random_state=0)\n",
    "#to split data into train and test \n",
    "from sklearn.linear_model import LinearRegression\n",
    "model = LinearRegression()\n",
    "model.fit(X_train,y_train)\n",
    "print(model.score(X_train,y_train)*100)\n",
    "print(model.score(X_test,y_test)*100)"
   ]
  },
  {
   "cell_type": "code",
   "execution_count": null,
   "id": "290befab",
   "metadata": {},
   "outputs": [],
   "source": []
  }
 ],
 "metadata": {
  "kernelspec": {
   "display_name": "da",
   "language": "python",
   "name": "da"
  },
  "language_info": {
   "codemirror_mode": {
    "name": "ipython",
    "version": 3
   },
   "file_extension": ".py",
   "mimetype": "text/x-python",
   "name": "python",
   "nbconvert_exporter": "python",
   "pygments_lexer": "ipython3",
   "version": "3.10.4"
  }
 },
 "nbformat": 4,
 "nbformat_minor": 5
}
